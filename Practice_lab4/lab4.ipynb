{
 "cells": [
  {
   "metadata": {
    "jupyter": {
     "is_executing": true
    },
    "ExecuteTime": {
     "start_time": "2025-09-24T20:44:16.087585Z"
    }
   },
   "cell_type": "code",
   "source": [
    "import numpy as np\n",
    "import cv2\n",
    "import matplotlib.pyplot as plt\n",
    "\n",
    "print(\"=\"*50)\n",
    "print(\"ЛАБОРАТОРНАЯ РАБОТА ПО ОБРАБОТКЕ ИЗОБРАЖЕНИЙ #4\")\n",
    "print(\"=\"*50)\n",
    "print(\" \") ###1 ЗАДАНИЕ : Подберите парамтеры алгоритма разрастания регионов так, чтобы был выделен весь участок газона.\n",
    "print(\"1. Подберите парамтеры алгоритма разрастания регионов так, \\nчтобы был выделен весь участок газона.\")\n",
    "print(\"-\"*80)\n",
    "\n",
    "# --- Загружаем изображение ---\n",
    "image = cv2.imread(\"sar_1.jpg\")\n",
    "if image is None:\n",
    "    raise FileNotFoundError(\"Файл sar_1.jpg не найден!\")\n",
    "\n",
    "# Переводим в серый\n",
    "gray = cv2.cvtColor(image, cv2.COLOR_BGR2GRAY)\n",
    "\n",
    "# --- Функции ---\n",
    "def homo_average(img, mask, point, T):\n",
    "    region_vals = img[mask > 0]\n",
    "    if len(region_vals) == 0:\n",
    "        return True\n",
    "    av_val = np.mean(region_vals)\n",
    "    return abs(av_val - img[point]) <= T\n",
    "\n",
    "def region_growing(image, seed_point, homo_fun, r, T):\n",
    "    mask = np.zeros(image.shape, np.uint8)\n",
    "    mask[seed_point] = 1\n",
    "    count = 1\n",
    "    while count > 0:\n",
    "        count = 0\n",
    "        local_mask = np.zeros(image.shape, np.uint8)\n",
    "        for i in range(r, image.shape[0] - r):\n",
    "            for j in range(r, image.shape[1] - r):\n",
    "                if mask[i, j] == 0 and mask[i - r:i + r, j - r:j + r].sum() > 0:\n",
    "                    if homo_fun(image, mask, (i, j), T):\n",
    "                        local_mask[i, j] = 1\n",
    "        count = np.count_nonzero(local_mask)\n",
    "        mask += local_mask\n",
    "    return mask * 255\n",
    "\n",
    "# --- Несколько затравочных точек внутри газона ---\n",
    "# (y, x) — координаты пикселей внутри разных полей\n",
    "seed_points = [\n",
    "    (0, 35),\n",
    "    (150, 170),\n",
    "    (120, 0),\n",
    "    (159, 129)\n",
    "]\n",
    "\n",
    "# --- Запуск region growing для каждой затравки ---\n",
    "final_mask = np.zeros(gray.shape, np.uint8)\n",
    "for sp in seed_points:\n",
    "    mask = region_growing(gray, sp, homo_average, r=1, T=15)\n",
    "    final_mask = cv2.bitwise_or(final_mask, mask)\n",
    "\n",
    "# --- Красим газон красным ---\n",
    "result = image.copy()\n",
    "result[final_mask > 0] = [255, 0, 0]  # красный (BGR)\n",
    "\n",
    "# --- Визуализация ---\n",
    "plt.figure(figsize=(12, 6))\n",
    "plt.subplot(1, 3, 1)\n",
    "plt.imshow(gray, cmap=\"gray\")\n",
    "plt.title(\"Исходное изображение\")\n",
    "\n",
    "plt.subplot(1, 3, 2)\n",
    "plt.imshow(final_mask, cmap=\"gray\")\n",
    "plt.title(\"Маска газона\")\n",
    "\n",
    "plt.subplot(1, 3, 3)\n",
    "plt.imshow(cv2.cvtColor(result, cv2.COLOR_BGR2RGB))\n",
    "plt.title(\"Газон выделен красным\")\n",
    "\n",
    "plt.show()\n"
   ],
   "id": "e2af5174e4d2eb24",
   "outputs": [
    {
     "name": "stdout",
     "output_type": "stream",
     "text": [
      "==================================================\n",
      "ЛАБОРАТОРНАЯ РАБОТА ПО ОБРАБОТКЕ ИЗОБРАЖЕНИЙ #4\n",
      "==================================================\n",
      " \n",
      "1. Подберите парамтеры алгоритма разрастания регионов так, \n",
      "чтобы был выделен весь участок газона.\n",
      "--------------------------------------------------------------------------------\n"
     ]
    }
   ],
   "execution_count": null
  }
 ],
 "metadata": {
  "kernelspec": {
   "display_name": "Python 3",
   "language": "python",
   "name": "python3"
  },
  "language_info": {
   "codemirror_mode": {
    "name": "ipython",
    "version": 2
   },
   "file_extension": ".py",
   "mimetype": "text/x-python",
   "name": "python",
   "nbconvert_exporter": "python",
   "pygments_lexer": "ipython2",
   "version": "2.7.6"
  }
 },
 "nbformat": 4,
 "nbformat_minor": 5
}
