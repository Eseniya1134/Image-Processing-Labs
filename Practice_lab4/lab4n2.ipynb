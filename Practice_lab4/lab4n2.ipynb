{
 "cells": [
  {
   "cell_type": "code",
   "execution_count": null,
   "id": "initial_id",
   "metadata": {
    "collapsed": true
   },
   "outputs": [],
   "source": [
    "import numpy as np\n",
    "import cv2\n",
    "import matplotlib.pyplot as plt\n",
    "\n",
    "print(\"=\"*50)\n",
    "print(\"ЛАБОРАТОРНАЯ РАБОТА ПО ОБРАБОТКЕ ИЗОБРАЖЕНИЙ #4\")\n",
    "print(\"=\"*50)\n",
    "print(\" \")\n",
    "\n",
    "###2 ЗАДАНИЕ : Подберите парамтеры алгоритма разрастания регионов так, чтобы был выделен весь участок газона.\n",
    "print(\"=\"*5, \" ЧАСТЬ 2 \", \"=\"*5)\n",
    "print(\"Реализуйте вычисление критерия однородности, отличного от представленного. Сравните результаты.\")\n",
    "print(\"-\"*80)\n",
    "\n",
    "# Загружаем изображение\n",
    "image = cv2.imread(\"sar_1.jpg\")\n",
    "if image is None:\n",
    "    raise FileNotFoundError(\"Файл sar_1.jpg не найден!\")\n"
   ]
  }
 ],
 "metadata": {
  "kernelspec": {
   "display_name": "Python 3",
   "language": "python",
   "name": "python3"
  },
  "language_info": {
   "codemirror_mode": {
    "name": "ipython",
    "version": 2
   },
   "file_extension": ".py",
   "mimetype": "text/x-python",
   "name": "python",
   "nbconvert_exporter": "python",
   "pygments_lexer": "ipython2",
   "version": "2.7.6"
  }
 },
 "nbformat": 4,
 "nbformat_minor": 5
}
